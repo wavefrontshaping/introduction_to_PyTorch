{
 "cells": [
  {
   "cell_type": "markdown",
   "id": "aggressive-berry",
   "metadata": {},
   "source": [
    "### Exercise 1: Training a simple linear model\n",
    "\n",
    "We do not know how to create a full neural network yet, by we know how to optimize a model.\n",
    "We will try to solve a problem that consists in optimizing a simple model using an optimizer and the autograd.\n",
    "\n",
    "Here is the physical problem:\n",
    "\n",
    "* Let's consider a linear system characterized by a transmission matrix $\\mathbf{H}$ (real) of size `n_out` $\\times$ `n_in`.\n",
    "* We send a collection of `n_inputs` random inputs, reprenseted by a matrix $\\mathbf{X}$ of size `n_inputs` $\\times$ `n_in`.\n",
    "* We retrive the output corresponding to $\\mathbf{Y} = \\mathbf{X} \\times \\mathbf{H}^t$ of size `n_inputs` $\\times$ `n_out`.\n",
    "* We add a noise with a variance `noise_var` to $\\mathbf{Y}$.\n",
    "\n",
    "Because we know the system is fully described by a matrix $\\mathbf{H}$, we will use a **network** with only one layer corresponding to a **dense layer** (i.e. one matrix multiplication, the coefficients being the parameters to be trained. \n",
    "\n",
    "Using the above example, create and train the system to find the correct matrix that correctly predict $\\mathbf{Y}$."
   ]
  },
  {
   "cell_type": "code",
   "execution_count": 1,
   "id": "athletic-imagination",
   "metadata": {},
   "outputs": [],
   "source": [
    "import torch\n",
    "import numpy as np\n",
    "import matplotlib.pyplot as plt\n",
    "\n",
    "device = torch.device('cuda' if torch.cuda.is_available() else 'cpu')"
   ]
  },
  {
   "cell_type": "markdown",
   "id": "demographic-wallace",
   "metadata": {},
   "source": [
    "**Parameters**"
   ]
  },
  {
   "cell_type": "code",
   "execution_count": 2,
   "id": "southeast-score",
   "metadata": {},
   "outputs": [],
   "source": [
    "# size of the system matrix\n",
    "n_in, n_out = 6,10\n",
    "# number of random input we use to estimate the response of the system\n",
    "n_inputs = 25\n",
    "# noise level (relative to the signal)\n",
    "noise_var = 5e-2"
   ]
  },
  {
   "cell_type": "markdown",
   "id": "controversial-gardening",
   "metadata": {},
   "source": [
    "**Generate data**"
   ]
  },
  {
   "cell_type": "code",
   "execution_count": 5,
   "id": "functioning-sacrifice",
   "metadata": {},
   "outputs": [],
   "source": [
    "# transmission matrix\n",
    "H = np.random.randn(n_out, n_in)\n",
    "\n",
    "# inputs\n",
    "X = np.random.randn(n_inputs, n_in)\n",
    "\n",
    "# outputs\n",
    "Y = X@H.transpose() \n",
    "\n",
    "# noise\n",
    "noise = np.random.randn(*Y.shape)\n",
    "noise *= np.linalg.norm(Y)/np.linalg.norm(noise)*noise_var\n",
    "\n",
    "Y += noise"
   ]
  },
  {
   "cell_type": "code",
   "execution_count": 6,
   "id": "grave-council",
   "metadata": {},
   "outputs": [
    {
     "data": {
      "text/plain": [
       "(25, 10)"
      ]
     },
     "execution_count": 6,
     "metadata": {},
     "output_type": "execute_result"
    }
   ],
   "source": [
    "Y.shape"
   ]
  },
  {
   "cell_type": "markdown",
   "id": "vocational-provision",
   "metadata": {},
   "source": [
    "**Convert data to PyTorch on `device`**"
   ]
  },
  {
   "cell_type": "code",
   "execution_count": 7,
   "id": "manual-aggregate",
   "metadata": {},
   "outputs": [],
   "source": [
    "X_pt = torch.from_numpy(X).to(device).type(torch.float)\n",
    "Y_pt = torch.from_numpy(Y).to(device).type(torch.float)\n",
    "H_pt = torch.from_numpy(H).to(device).type(torch.float)"
   ]
  },
  {
   "cell_type": "markdown",
   "id": "expanded-pharmaceutical",
   "metadata": {},
   "source": [
    "**Model**\n",
    "\n",
    "A single dense layer (matrix multiplication).\n",
    "\n",
    "Not deep learning!"
   ]
  },
  {
   "cell_type": "code",
   "execution_count": 13,
   "id": "severe-vietnam",
   "metadata": {},
   "outputs": [],
   "source": [
    "model = torch.nn.Linear(n_in, n_out).to(device)"
   ]
  },
  {
   "cell_type": "markdown",
   "id": "engaged-acting",
   "metadata": {},
   "source": [
    "**Loss function and optimizer**"
   ]
  },
  {
   "cell_type": "code",
   "execution_count": 9,
   "id": "parental-static",
   "metadata": {},
   "outputs": [
    {
     "name": "stderr",
     "output_type": "stream",
     "text": [
      "/opt/miniconda/envs/py38/lib/python3.8/site-packages/torch/nn/_reduction.py:44: UserWarning: size_average and reduce args will be deprecated, please use reduction='sum' instead.\n",
      "  warnings.warn(warning.format(ret))\n"
     ]
    }
   ],
   "source": [
    "# create loss function\n",
    "loss_fn = torch.nn.MSELoss(size_average=False) # Mean square error\n",
    "\n",
    "learning_rate = 1e-2\n",
    "optimizer = torch.optim.SGD(model.parameters(),lr = learning_rate)\n"
   ]
  },
  {
   "cell_type": "code",
   "execution_count": 10,
   "id": "electrical-richards",
   "metadata": {},
   "outputs": [
    {
     "name": "stdout",
     "output_type": "stream",
     "text": [
      "iteration = 0\t loss = 2.16e+03\n",
      "iteration = 5\t loss = 2.31e+01\n",
      "iteration = 10\t loss = 5.89e+00\n",
      "iteration = 15\t loss = 3.87e+00\n",
      "iteration = 20\t loss = 3.53e+00\n",
      "iteration = 25\t loss = 3.47e+00\n",
      "iteration = 30\t loss = 3.46e+00\n",
      "iteration = 35\t loss = 3.46e+00\n",
      "iteration = 40\t loss = 3.46e+00\n",
      "iteration = 45\t loss = 3.46e+00\n"
     ]
    }
   ],
   "source": [
    "\n",
    "for iteration in range(50):\n",
    "    Y_pred = model(X_pt)\n",
    "    loss = loss_fn(Y_pred,Y_pt)\n",
    "    \n",
    "    optimizer.zero_grad() # before the backpropagation!   \n",
    "    # backward propagation done by autograd\n",
    "    loss.backward()\n",
    "    \n",
    "    # update the parameters\n",
    "    optimizer.step()\n",
    "    \n",
    "    if iteration % 5 == 0:\n",
    "        print(f\"iteration = {iteration}\\t loss = {loss.item():.2e}\")\n"
   ]
  },
  {
   "cell_type": "markdown",
   "id": "automated-cartridge",
   "metadata": {},
   "source": [
    "**Retrieve the estimater matrix and show the result**"
   ]
  },
  {
   "cell_type": "code",
   "execution_count": 11,
   "id": "altered-history",
   "metadata": {},
   "outputs": [],
   "source": [
    "H_hat = model.weight.detach().cpu().numpy()\n",
    "# use detach() to remove the tracking of gradient, do it once the calculation is done\n",
    "# cpu() to copy it back to the cpu memory from the GPU\n",
    "# numpy() to covert PyTorch tensor to numpy array"
   ]
  },
  {
   "cell_type": "code",
   "execution_count": 12,
   "id": "acting-hampton",
   "metadata": {},
   "outputs": [
    {
     "data": {
      "text/plain": [
       "Text(0.5, 1.0, 'Estiamte matrix')"
      ]
     },
     "execution_count": 12,
     "metadata": {},
     "output_type": "execute_result"
    },
    {
     "data": {
      "image/png": "[encoded data removed]",
      "text/plain": [
       "<Figure size 432x288 with 2 Axes>"
      ]
     },
     "metadata": {
      "needs_background": "light"
     },
     "output_type": "display_data"
    }
   ],
   "source": [
    "plt.figure()\n",
    "plt.subplot(121)\n",
    "plt.imshow(H)\n",
    "plt.title('Real matrix')\n",
    "plt.subplot(122)\n",
    "plt.imshow(H_hat)\n",
    "plt.title('Estiamte matrix')"
   ]
  },
  {
   "cell_type": "code",
   "execution_count": null,
   "id": "married-softball",
   "metadata": {},
   "outputs": [],
   "source": []
  }
 ],
 "metadata": {
  "kernelspec": {
   "display_name": "Python 3",
   "language": "python",
   "name": "python3"
  },
  "language_info": {
   "codemirror_mode": {
    "name": "ipython",
    "version": 3
   },
   "file_extension": ".py",
   "mimetype": "text/x-python",
   "name": "python",
   "nbconvert_exporter": "python",
   "pygments_lexer": "ipython3",
   "version": "3.8.5"
  },
  "toc": {
   "base_numbering": 1,
   "nav_menu": {},
   "number_sections": true,
   "sideBar": true,
   "skip_h1_title": false,
   "title_cell": "Table of Contents",
   "title_sidebar": "Contents",
   "toc_cell": false,
   "toc_position": {},
   "toc_section_display": true,
   "toc_window_display": false
  }
 },
 "nbformat": 4,
 "nbformat_minor": 5
}

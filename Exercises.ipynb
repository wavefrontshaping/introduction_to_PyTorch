{
 "cells": [
  {
   "cell_type": "markdown",
   "id": "acting-things",
   "metadata": {},
   "source": [
    "### Exercise 1: Training a simple linear model\n",
    "\n",
    "We do not know how to create a full neural network yet, by we know how to optimize a model.\n",
    "We will try to solve a problem that consists in optimizing a simple model using an optimizer and the autograd.\n",
    "\n",
    "Here is the physical problem:\n",
    "\n",
    "* Let's consider a linear system characterized by a transmission matrix $\\mathbf{H}$ (real) of size `n_out` $\\times$ `n_in`.\n",
    "* We send a collection of `n_inputs` random inputs, reprenseted by a matrix $\\mathbf{X}$ of size `n_inputs` $\\times$ `n_in`.\n",
    "* We retrive the output corresponding to $\\mathbf{Y} = \\mathbf{X} \\times \\mathbf{H}^t$ of size `n_inputs` $\\times$ `n_out`.\n",
    "* We add a noise with a variance `noise_var` to $\\mathbf{Y}$.\n",
    "\n",
    "Because we know the system is fully described by a matrix $\\mathbf{H}$, we will use a **network** with only one layer corresponding to a **dense layer** (i.e. one matrix multiplication, the coefficients being the parameters to be trained. \n",
    "\n",
    "Using the above example, create and train the system to find the correct matrix that correctly predict $\\mathbf{Y}$."
   ]
  },
  {
   "cell_type": "code",
   "execution_count": 1,
   "id": "athletic-imagination",
   "metadata": {},
   "outputs": [],
   "source": [
    "import torch\n",
    "import numpy as np\n",
    "import matplotlib.pyplot as plt\n",
    "\n",
    "device = torch.device('cuda' if torch.cuda.is_available() else 'cpu')"
   ]
  },
  {
   "cell_type": "markdown",
   "id": "varying-vermont",
   "metadata": {},
   "source": [
    "**Parameters**"
   ]
  },
  {
   "cell_type": "code",
   "execution_count": 2,
   "id": "tribal-street",
   "metadata": {},
   "outputs": [],
   "source": [
    "# size of the system matrix\n",
    "n_in, n_out = 6,10\n",
    "# number of random input we use to estimate the response of the system\n",
    "n_inputs = 25\n",
    "# noise level (relative to the signal)\n",
    "noise_var = 5e-2"
   ]
  },
  {
   "cell_type": "markdown",
   "id": "controversial-gardening",
   "metadata": {},
   "source": [
    "**Generate data**"
   ]
  },
  {
   "cell_type": "code",
   "execution_count": 5,
   "id": "functioning-sacrifice",
   "metadata": {},
   "outputs": [],
   "source": [
    "# transmission matrix\n",
    "H = np.random.randn(n_out, n_in)\n",
    "\n",
    "# inputs\n",
    "X = np.random.randn(n_inputs, n_in)\n",
    "\n",
    "# outputs\n",
    "Y = X@H.transpose() \n",
    "\n",
    "# noise\n",
    "noise = np.random.randn(*Y.shape)\n",
    "noise *= np.linalg.norm(Y)/np.linalg.norm(noise)*noise_var\n",
    "\n",
    "Y += noise"
   ]
  },
  {
   "cell_type": "code",
   "execution_count": 6,
   "id": "lightweight-inquiry",
   "metadata": {},
   "outputs": [
    {
     "data": {
      "text/plain": [
       "(25, 10)"
      ]
     },
     "execution_count": 6,
     "metadata": {},
     "output_type": "execute_result"
    }
   ],
   "source": [
    "Y.shape"
   ]
  },
  {
   "cell_type": "markdown",
   "id": "professional-rider",
   "metadata": {},
   "source": [
    "**Convert data to PyTorch on `device`**"
   ]
  },
  {
   "cell_type": "code",
   "execution_count": 7,
   "id": "manual-aggregate",
   "metadata": {},
   "outputs": [],
   "source": [
    "X_pt = torch.from_numpy(X).to(device).type(torch.float)\n",
    "Y_pt = torch.from_numpy(Y).to(device).type(torch.float)\n",
    "H_pt = torch.from_numpy(H).to(device).type(torch.float)"
   ]
  },
  {
   "cell_type": "markdown",
   "id": "billion-hierarchy",
   "metadata": {},
   "source": [
    "**Model**\n",
    "\n",
    "A single dense layer (matrix multiplication).\n",
    "\n",
    "Not deep learning!"
   ]
  },
  {
   "cell_type": "code",
   "execution_count": 13,
   "id": "severe-vietnam",
   "metadata": {},
   "outputs": [],
   "source": [
    "model = torch.nn.Linear(n_in, n_out).to(device)"
   ]
  },
  {
   "cell_type": "markdown",
   "id": "pursuant-answer",
   "metadata": {},
   "source": [
    "**Loss function and optimizer**"
   ]
  },
  {
   "cell_type": "code",
   "execution_count": 9,
   "id": "global-conservation",
   "metadata": {},
   "outputs": [
    {
     "name": "stderr",
     "output_type": "stream",
     "text": [
      "/opt/miniconda/envs/py38/lib/python3.8/site-packages/torch/nn/_reduction.py:44: UserWarning: size_average and reduce args will be deprecated, please use reduction='sum' instead.\n",
      "  warnings.warn(warning.format(ret))\n"
     ]
    }
   ],
   "source": [
    "# create loss function\n",
    "loss_fn = torch.nn.MSELoss(size_average=False) # Mean square error\n",
    "\n",
    "learning_rate = 1e-2\n",
    "optimizer = torch.optim.SGD(model.parameters(),lr = learning_rate)\n"
   ]
  },
  {
   "cell_type": "code",
   "execution_count": 10,
   "id": "dominican-render",
   "metadata": {},
   "outputs": [
    {
     "name": "stdout",
     "output_type": "stream",
     "text": [
      "iteration = 0\t loss = 2.16e+03\n",
      "iteration = 5\t loss = 2.31e+01\n",
      "iteration = 10\t loss = 5.89e+00\n",
      "iteration = 15\t loss = 3.87e+00\n",
      "iteration = 20\t loss = 3.53e+00\n",
      "iteration = 25\t loss = 3.47e+00\n",
      "iteration = 30\t loss = 3.46e+00\n",
      "iteration = 35\t loss = 3.46e+00\n",
      "iteration = 40\t loss = 3.46e+00\n",
      "iteration = 45\t loss = 3.46e+00\n"
     ]
    }
   ],
   "source": [
    "\n",
    "for iteration in range(50):\n",
    "    Y_pred = model(X_pt)\n",
    "    loss = loss_fn(Y_pred,Y_pt)\n",
    "    \n",
    "    optimizer.zero_grad() # before the backpropagation!   \n",
    "    # backward propagation done by autograd\n",
    "    loss.backward()\n",
    "    \n",
    "    # update the parameters\n",
    "    optimizer.step()\n",
    "    \n",
    "    if iteration % 5 == 0:\n",
    "        print(f\"iteration = {iteration}\\t loss = {loss.item():.2e}\")\n"
   ]
  },
  {
   "cell_type": "markdown",
   "id": "funky-companion",
   "metadata": {},
   "source": [
    "**Retrieve the estimater matrix and show the result**"
   ]
  },
  {
   "cell_type": "code",
   "execution_count": 11,
   "id": "colonial-vaccine",
   "metadata": {},
   "outputs": [],
   "source": [
    "H_hat = model.weight.detach().cpu().numpy()\n",
    "# use detach() to remove the tracking of gradient, do it once the calculation is done\n",
    "# cpu() to copy it back to the cpu memory from the GPU\n",
    "# numpy() to covert PyTorch tensor to numpy array"
   ]
  },
  {
   "cell_type": "code",
   "execution_count": 12,
   "id": "irish-banner",
   "metadata": {},
   "outputs": [
    {
     "data": {
      "text/plain": [
       "Text(0.5, 1.0, 'Estiamte matrix')"
      ]
     },
     "execution_count": 12,
     "metadata": {},
     "output_type": "execute_result"
    },
    {
     "data": {
      "image/png": "[encoded data removed]",
      "text/plain": [
       "<Figure size 432x288 with 2 Axes>"
      ]
     },
     "metadata": {
      "needs_background": "light"
     },
     "output_type": "display_data"
    }
   ],
   "source": [
    "plt.figure()\n",
    "plt.subplot(121)\n",
    "plt.imshow(H)\n",
    "plt.title('Real matrix')\n",
    "plt.subplot(122)\n",
    "plt.imshow(H_hat)\n",
    "plt.title('Estiamte matrix')"
   ]
  },
  {
   "cell_type": "markdown",
   "id": "metropolitan-premiere",
   "metadata": {},
   "source": [
    "### Exercice 2: Fully connected classifier for MNIST dataset\n",
    "\n",
    "\n",
    "<br>\n",
    "<center><figure>\n",
    "    <img src='img/dense_net.svg' alt='missing'/>\n",
    "</figure></center>"
   ]
  },
  {
   "cell_type": "code",
   "execution_count": 1,
   "id": "complimentary-paris",
   "metadata": {},
   "outputs": [],
   "source": [
    "import argparse\n",
    "import torch\n",
    "import torch.nn as nn\n",
    "import torch.nn.functional as F\n",
    "import torch.optim as optim\n",
    "from torchvision import datasets, transforms\n",
    "\n",
    "batch_size = 64\n",
    "epochs = 10\n",
    "learning_rate = 1e-3\n",
    "device  = device = torch.device('cuda:0' if torch.cuda.is_available() else 'cpu')"
   ]
  },
  {
   "cell_type": "code",
   "execution_count": 2,
   "id": "nutritional-termination",
   "metadata": {},
   "outputs": [],
   "source": [
    "mnist_train = datasets.MNIST(\"./\", train=True, \n",
    "                             transform=transforms.Compose([\n",
    "                                 transforms.ToTensor(),\n",
    "                                 transforms.Normalize((0.1307,), (0.3081,))]),\n",
    "                             target_transform=None, \n",
    "                             download=True)\n",
    "\n",
    "train_loader = torch.utils.data.DataLoader(mnist_train, batch_size=batch_size, shuffle=True)\n",
    "\n",
    "mnist_test = datasets.MNIST(\"./\", train=False, \n",
    "                             transform=transforms.Compose([\n",
    "                                 transforms.ToTensor(),\n",
    "                                 transforms.Normalize((0.1307,), (0.3081,))]),\n",
    "                             target_transform=None, \n",
    "                             download=True)\n",
    "\n",
    "test_loader = torch.utils.data.DataLoader(mnist_train, batch_size=batch_size, shuffle=True)"
   ]
  },
  {
   "cell_type": "code",
   "execution_count": 3,
   "id": "standard-parts",
   "metadata": {},
   "outputs": [],
   "source": [
    "def train( model, device, train_loader, optimizer, epoch):\n",
    "    model.train()\n",
    "    for batch_idx, (data, target) in enumerate(train_loader):\n",
    "        data, target = data.to(device), target.to(device)\n",
    "        optimizer.zero_grad()\n",
    "        output = model(data)\n",
    "        loss = F.nll_loss(output, target)\n",
    "        loss.backward()\n",
    "        optimizer.step()\n",
    "        if batch_idx % 350 == 0:\n",
    "            print('Train Epoch: {} [{}/{} ({:.0f}%)]\\tLoss: {:.6f}'.format(\n",
    "                epoch, batch_idx * len(data), len(train_loader.dataset),\n",
    "                100. * batch_idx / len(train_loader), loss.item()))\n",
    "\n",
    "def test( model, device, test_loader):\n",
    "    model.eval()\n",
    "    test_loss = 0\n",
    "    correct = 0\n",
    "    with torch.no_grad():\n",
    "        for data, target in test_loader:\n",
    "            data, target = data.to(device), target.to(device)\n",
    "            output = model(data)\n",
    "            test_loss += F.nll_loss(output, target, reduction='sum').item() # sum up batch loss\n",
    "            pred = output.argmax(dim=1, keepdim=True) # get the index of the max log-probability\n",
    "            correct += pred.eq(target.view_as(pred)).sum().item()\n",
    "\n",
    "    test_loss /= len(test_loader.dataset)\n",
    "\n",
    "    print('>> Test set: Average loss: {:.4f}, Accuracy: {}/{} ({:.1f}%)'.format(\n",
    "        test_loss, correct, len(test_loader.dataset),\n",
    "        100. * correct / len(test_loader.dataset)))"
   ]
  },
  {
   "cell_type": "code",
   "execution_count": 6,
   "id": "smoking-tower",
   "metadata": {},
   "outputs": [
    {
     "name": "stdout",
     "output_type": "stream",
     "text": [
      "Train Epoch: 1 [0/60000 (0%)]\tLoss: 2.300672\n",
      "Train Epoch: 1 [22400/60000 (37%)]\tLoss: 1.624926\n",
      "Train Epoch: 1 [44800/60000 (75%)]\tLoss: 0.519737\n",
      ">> Test set: Average loss: 0.6849, Accuracy: 47870/60000 (79.8%)\n",
      "Train Epoch: 2 [0/60000 (0%)]\tLoss: 0.701207\n",
      "Train Epoch: 2 [22400/60000 (37%)]\tLoss: 0.676404\n",
      "Train Epoch: 2 [44800/60000 (75%)]\tLoss: 0.187973\n",
      ">> Test set: Average loss: 0.3039, Accuracy: 54622/60000 (91.0%)\n",
      "Train Epoch: 3 [0/60000 (0%)]\tLoss: 0.509816\n",
      "Train Epoch: 3 [22400/60000 (37%)]\tLoss: 0.310495\n",
      "Train Epoch: 3 [44800/60000 (75%)]\tLoss: 0.148266\n",
      ">> Test set: Average loss: 0.2424, Accuracy: 55710/60000 (92.8%)\n",
      "Train Epoch: 4 [0/60000 (0%)]\tLoss: 0.251572\n",
      "Train Epoch: 4 [22400/60000 (37%)]\tLoss: 0.087974\n",
      "Train Epoch: 4 [44800/60000 (75%)]\tLoss: 0.466239\n",
      ">> Test set: Average loss: 0.1956, Accuracy: 56591/60000 (94.3%)\n",
      "Train Epoch: 5 [0/60000 (0%)]\tLoss: 0.232700\n",
      "Train Epoch: 5 [22400/60000 (37%)]\tLoss: 0.273678\n",
      "Train Epoch: 5 [44800/60000 (75%)]\tLoss: 0.135543\n",
      ">> Test set: Average loss: 0.1655, Accuracy: 57106/60000 (95.2%)\n",
      "Train Epoch: 6 [0/60000 (0%)]\tLoss: 0.104197\n",
      "Train Epoch: 6 [22400/60000 (37%)]\tLoss: 0.138999\n",
      "Train Epoch: 6 [44800/60000 (75%)]\tLoss: 0.109209\n",
      ">> Test set: Average loss: 0.1383, Accuracy: 57594/60000 (96.0%)\n",
      "Train Epoch: 7 [0/60000 (0%)]\tLoss: 0.077209\n",
      "Train Epoch: 7 [22400/60000 (37%)]\tLoss: 0.177886\n",
      "Train Epoch: 7 [44800/60000 (75%)]\tLoss: 0.102093\n",
      ">> Test set: Average loss: 0.1218, Accuracy: 57844/60000 (96.4%)\n",
      "Train Epoch: 8 [0/60000 (0%)]\tLoss: 0.245144\n",
      "Train Epoch: 8 [22400/60000 (37%)]\tLoss: 0.074041\n",
      "Train Epoch: 8 [44800/60000 (75%)]\tLoss: 0.133653\n",
      ">> Test set: Average loss: 0.1083, Accuracy: 58112/60000 (96.9%)\n",
      "Train Epoch: 9 [0/60000 (0%)]\tLoss: 0.131525\n",
      "Train Epoch: 9 [22400/60000 (37%)]\tLoss: 0.127929\n",
      "Train Epoch: 9 [44800/60000 (75%)]\tLoss: 0.208629\n",
      ">> Test set: Average loss: 0.0962, Accuracy: 58317/60000 (97.2%)\n",
      "Train Epoch: 10 [0/60000 (0%)]\tLoss: 0.053779\n",
      "Train Epoch: 10 [22400/60000 (37%)]\tLoss: 0.141463\n",
      "Train Epoch: 10 [44800/60000 (75%)]\tLoss: 0.164967\n",
      ">> Test set: Average loss: 0.0853, Accuracy: 58557/60000 (97.6%)\n"
     ]
    }
   ],
   "source": [
    "class DenseNet(nn.Module):\n",
    "    def __init__(self):\n",
    "        super(DenseNet, self).__init__()\n",
    "        self.fc1 = nn.Linear(in_features = 28*28, out_features = 300)\n",
    "        self.fc2 = nn.Linear(in_features = 300, out_features = 200)\n",
    "        self.fc3 = nn.Linear(in_features = 200, out_features = 100)\n",
    "        self.fc4 = nn.Linear(in_features = 100, out_features = 10)\n",
    "    def forward(self, x):\n",
    "        x = x.view(-1, 28*28)\n",
    "        x = F.relu(self.fc1(x))\n",
    "        x = F.relu(self.fc2(x))\n",
    "        x = F.relu(self.fc3(x))\n",
    "        x = F.relu(self.fc4(x))\n",
    "        return F.log_softmax(x, dim=1)\n",
    "    \n",
    "model = DenseNet().to(device)\n",
    "optimizer = optim.SGD(model.parameters(), lr=learning_rate, momentum=0.9)\n",
    "\n",
    "for epoch in range(1, epochs + 1):\n",
    "    train(model, device, train_loader, optimizer, epoch)\n",
    "    test(model, device, test_loader)"
   ]
  },
  {
   "cell_type": "code",
   "execution_count": null,
   "id": "domestic-leave",
   "metadata": {},
   "outputs": [],
   "source": []
  }
 ],
 "metadata": {
  "kernelspec": {
   "display_name": "Python 3",
   "language": "python",
   "name": "python3"
  },
  "language_info": {
   "codemirror_mode": {
    "name": "ipython",
    "version": 3
   },
   "file_extension": ".py",
   "mimetype": "text/x-python",
   "name": "python",
   "nbconvert_exporter": "python",
   "pygments_lexer": "ipython3",
   "version": "3.8.5"
  },
  "toc": {
   "base_numbering": 1,
   "nav_menu": {},
   "number_sections": true,
   "sideBar": true,
   "skip_h1_title": false,
   "title_cell": "Table of Contents",
   "title_sidebar": "Contents",
   "toc_cell": false,
   "toc_position": {},
   "toc_section_display": true,
   "toc_window_display": false
  }
 },
 "nbformat": 4,
 "nbformat_minor": 5
}
